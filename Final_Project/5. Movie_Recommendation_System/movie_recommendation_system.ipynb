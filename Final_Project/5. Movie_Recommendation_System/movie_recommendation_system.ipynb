{
 "cells": [
  {
   "cell_type": "markdown",
   "metadata": {},
   "source": [
    "# Movie Recommendation System\n"
   ]
  },
  {
   "cell_type": "code",
   "execution_count": 33,
   "metadata": {},
   "outputs": [],
   "source": [
    "import seaborn as sns\n",
    "from matplotlib import pyplot as plt\n",
    "from sklearn.feature_extraction.text import TfidfVectorizer\n",
    "from sklearn.metrics.pairwise import linear_kernel\n",
    "from math import sqrt\n",
    "import pandas as pd\n",
    "import numpy as np"
   ]
  },
  {
   "cell_type": "code",
   "execution_count": 34,
   "metadata": {},
   "outputs": [],
   "source": [
    "# Reading ratings file\n",
    "ratings = pd.read_csv('ratings.csv', sep=',', encoding='latin-1', usecols=['userId','movieId','rating','timestamp'])\n",
    "df_ratings = ratings \n",
    "# Reading movies file\n",
    "movies = pd.read_csv('movies.csv', sep=',', encoding='latin-1', usecols=['movieId','title','genres'])\n",
    "df_movies = movies "
   ]
  },
  {
   "cell_type": "markdown",
   "metadata": {},
   "source": [
    "# Content based filtering\n",
    "\n",
    "- Item-Item Recommendation\n"
   ]
  },
  {
   "cell_type": "code",
   "execution_count": 35,
   "metadata": {},
   "outputs": [],
   "source": [
    "tfidf_movies_genres = TfidfVectorizer(token_pattern = '[a-zA-Z0-9\\-]+')\n",
    "df_movies['genres'] = df_movies['genres'].replace(to_replace=\"(no genres listed)\", value=\"\")\n",
    "tfidf_movies_genres_matrix = tfidf_movies_genres.fit_transform(df_movies['genres'])\n",
    "cosine_sim_movies = linear_kernel(tfidf_movies_genres_matrix, tfidf_movies_genres_matrix)"
   ]
  },
  {
   "cell_type": "code",
   "execution_count": 36,
   "metadata": {},
   "outputs": [],
   "source": [
    "def get_recommendations_based_on_genres(movie_title, cosine_sim_movies=cosine_sim_movies):\n",
    "    idx_movie = df_movies.loc[df_movies['title'].isin([movie_title])]\n",
    "    idx_movie = idx_movie.index\n",
    "    sim_scores_movies = list(enumerate(cosine_sim_movies[idx_movie][0]))\n",
    "    sim_scores_movies = sorted(sim_scores_movies, key=lambda x: x[1], reverse=True)\n",
    "    sim_scores_movies = sim_scores_movies[1:3]\n",
    "    movie_indices = [i[0] for i in sim_scores_movies]\n",
    "    return df_movies['title'].iloc[movie_indices]"
   ]
  },
  {
   "cell_type": "code",
   "execution_count": 37,
   "metadata": {},
   "outputs": [
    {
     "data": {
      "text/plain": [
       "224    Star Wars: Episode IV - A New Hope (1977)\n",
       "275                              Stargate (1994)\n",
       "Name: title, dtype: object"
      ]
     },
     "execution_count": 37,
     "metadata": {},
     "output_type": "execute_result"
    }
   ],
   "source": [
    "get_recommendations_based_on_genres(\"Star Wars: Episode IV - A New Hope (1977)\")"
   ]
  },
  {
   "cell_type": "markdown",
   "metadata": {},
   "source": [
    "# Collaborative Filtering\n",
    "\n",
    " - User-Item Recommendation\n"
   ]
  },
  {
   "cell_type": "code",
   "execution_count": 38,
   "metadata": {},
   "outputs": [],
   "source": [
    "df_movies_ratings=pd.merge(df_movies, df_ratings)"
   ]
  },
  {
   "cell_type": "code",
   "execution_count": 39,
   "metadata": {},
   "outputs": [
    {
     "data": {
      "text/plain": [
       "(9724, 610)"
      ]
     },
     "execution_count": 39,
     "metadata": {},
     "output_type": "execute_result"
    }
   ],
   "source": [
    "ratings_matrix_items = df_movies_ratings.pivot_table(index=['movieId'],columns=['userId'],values='rating').reset_index(drop=True)\n",
    "ratings_matrix_items.fillna( 0, inplace = True )\n",
    "ratings_matrix_items.shape"
   ]
  },
  {
   "cell_type": "code",
   "execution_count": 40,
   "metadata": {},
   "outputs": [
    {
     "data": {
      "text/plain": [
       "pandas.core.frame.DataFrame"
      ]
     },
     "execution_count": 40,
     "metadata": {},
     "output_type": "execute_result"
    }
   ],
   "source": [
    "type(ratings_matrix_items)"
   ]
  },
  {
   "cell_type": "code",
   "execution_count": 41,
   "metadata": {},
   "outputs": [],
   "source": [
    "def item_similarity(movieName): \n",
    "    \"\"\"\n",
    "    recomendates similar movies\n",
    "   :param data: name of the movie \n",
    "   \"\"\"\n",
    "    try:\n",
    "        user_inp=movieName\n",
    "        inp=df_movies[df_movies['title']==user_inp].index.tolist()\n",
    "        inp=inp[0]\n",
    "\n",
    "        df_movies['similarity'] = ratings_matrix_items.iloc[inp]\n",
    "        df_movies.columns = ['movie_id', 'title', 'release_date','similarity']\n",
    "    except:\n",
    "        print(\"Movie doesnot exist\")"
   ]
  },
  {
   "cell_type": "code",
   "execution_count": 42,
   "metadata": {},
   "outputs": [],
   "source": [
    "def recommendedMoviesAsperItemSimilarity(user_id):\n",
    "    user_movie= df_movies_ratings[(df_movies_ratings.userId==user_id) & df_movies_ratings.rating.isin([5,4.5])][['title']]\n",
    "    user_movie=user_movie.iloc[0,0]\n",
    "    item_similarity(user_movie)\n",
    "    sorted_movies_as_per_userChoice=df_movies.sort_values( [\"similarity\"], ascending = False )\n",
    "    sorted_movies_as_per_userChoice=sorted_movies_as_per_userChoice[sorted_movies_as_per_userChoice['similarity'] >=0.45]['movie_id']\n",
    "    recommended_movies=list()\n",
    "    df_recommended_item=pd.DataFrame()\n",
    "    user2Movies= df_ratings[df_ratings['userId']== user_id]['movieId']\n",
    "    for movieId in sorted_movies_as_per_userChoice:\n",
    "            if movieId not in user2Movies:\n",
    "                df_new= df_ratings[(df_ratings.movieId==movieId)]\n",
    "                df_recommended_item=pd.concat([df_recommended_item,df_new])\n",
    "            best10=df_recommended_item.sort_values([\"rating\"], ascending = False )[1:10] \n",
    "    return best10['movieId']"
   ]
  },
  {
   "cell_type": "code",
   "execution_count": 43,
   "metadata": {},
   "outputs": [],
   "source": [
    "def movieIdToTitle(listMovieIDs):\n",
    "    movie_titles= list()\n",
    "    for id in listMovieIDs:\n",
    "        movie_titles.append(df_movies[df_movies['movie_id']==id]['title'])\n",
    "    return movie_titles"
   ]
  },
  {
   "cell_type": "code",
   "execution_count": 44,
   "metadata": {},
   "outputs": [
    {
     "data": {
      "text/plain": [
       "[314    Forrest Gump (1994)\n",
       " Name: title, dtype: object,\n",
       " 62    From Dusk Till Dawn (1996)\n",
       " Name: title, dtype: object]"
      ]
     },
     "execution_count": 44,
     "metadata": {},
     "output_type": "execute_result"
    }
   ],
   "source": [
    "user_id=49\n",
    "movieIdToTitle(recommendedMoviesAsperItemSimilarity(user_id).unique())"
   ]
  }
 ],
 "metadata": {
  "kernelspec": {
   "display_name": "Python 3 (ipykernel)",
   "language": "python",
   "name": "python3"
  },
  "language_info": {
   "codemirror_mode": {
    "name": "ipython",
    "version": 3
   },
   "file_extension": ".py",
   "mimetype": "text/x-python",
   "name": "python",
   "nbconvert_exporter": "python",
   "pygments_lexer": "ipython3",
   "version": "3.8.10"
  }
 },
 "nbformat": 4,
 "nbformat_minor": 2
}
