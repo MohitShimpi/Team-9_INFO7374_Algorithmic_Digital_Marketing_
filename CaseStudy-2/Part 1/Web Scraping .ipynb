{
 "cells": [
  {
   "cell_type": "code",
   "execution_count": 24,
   "id": "667e520f",
   "metadata": {},
   "outputs": [
    {
     "name": "stderr",
     "output_type": "stream",
     "text": [
      "/tmp/ipykernel_18245/648942149.py:22: DeprecationWarning: executable_path has been deprecated, please pass in a Service object\n",
      "  driver = webdriver.Chrome(\"/usr/lib/chromium-browser/chromedriver\")\n",
      "/tmp/ipykernel_18245/648942149.py:37: DeprecationWarning: find_elements_by_* commands are deprecated. Please use find_elements() instead\n",
      "  container = driver.find_elements_by_xpath(\"//div[@class='cWwQK MC R2 Gi z Z BB dXjiy']\")\n",
      "/tmp/ipykernel_18245/648942149.py:46: DeprecationWarning: find_element_by_* commands are deprecated. Please use find_element() instead\n",
      "  driver.find_element_by_xpath('.//a[@class=\"ui_button nav next primary \"]').click()\n"
     ]
    }
   ],
   "source": [
    "import sys\n",
    "import csv\n",
    "from selenium import webdriver\n",
    "import time\n",
    "\n",
    "# default path to file to store data\n",
    "path_to_file = \"/home/mohit/ADM/Algorithmic-Digital-Marketing/CaseStudy-2/scrapedreview.csv\"\n",
    "\n",
    "# default number of scraped pages\n",
    "num_page = 60\n",
    "\n",
    "# default tripadvisor website of restaurant\n",
    "url = \"https://www.tripadvisor.com/Hotel_Review-g60745-d6485213-Reviews-The_Verb_Hotel-Boston_Massachusetts.html\"\n",
    "\n",
    "#if you pass the inputs in the command line\n",
    "if (len(sys.argv) == 4):\n",
    "    path_to_file = sys.argv[1]\n",
    "    num_page = int(sys.argv[2])\n",
    "    url = sys.argv[3]\n",
    "    \n",
    "# Import the webdriver\n",
    "driver = webdriver.Chrome(\"/usr/lib/chromium-browser/chromedriver\")\n",
    "driver.get(url)\n",
    "\n",
    "\n",
    "# Open the file to save the review\n",
    "csvFile = open(path_to_file, 'a', encoding=\"utf-8\")\n",
    "csvWriter = csv.writer(csvFile)\n",
    "\n",
    "# change the value inside the range to save more or less reviews\n",
    "for i in range(0, num_page):\n",
    "    \n",
    "    # expand the review \n",
    "    time.sleep(2)\n",
    "    #driver.find_element_by_xpath(\"//span[@class='eljVo _S Z']\").click()\n",
    "\n",
    "    container = driver.find_elements_by_xpath(\"//div[@class='cWwQK MC R2 Gi z Z BB dXjiy']\")\n",
    "\n",
    "    #for j in range(len(container)):\n",
    "\n",
    "    review = container[0].find_element_by_xpath(\"//q[@class='XllAv H4 _a']/span\").text\n",
    "\n",
    "    csvWriter.writerow([review]) \n",
    "\n",
    "    # change the page\n",
    "    driver.find_element_by_xpath('.//a[@class=\"ui_button nav next primary \"]').click()\n",
    "\n",
    "driver.close()"
   ]
  }
 ],
 "metadata": {
  "kernelspec": {
   "display_name": "Python 3 (ipykernel)",
   "language": "python",
   "name": "python3"
  },
  "language_info": {
   "codemirror_mode": {
    "name": "ipython",
    "version": 3
   },
   "file_extension": ".py",
   "mimetype": "text/x-python",
   "name": "python",
   "nbconvert_exporter": "python",
   "pygments_lexer": "ipython3",
   "version": "3.8.10"
  }
 },
 "nbformat": 4,
 "nbformat_minor": 5
}
